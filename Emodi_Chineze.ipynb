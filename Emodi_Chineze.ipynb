{
 "cells": [
  {
   "cell_type": "code",
   "execution_count": 3,
   "id": "4ac2c283",
   "metadata": {},
   "outputs": [],
   "source": [
    "#15\n",
    "import numpy as np\n",
    "\n",
    "def doolittle(A, b):\n",
    "    n = len(A)\n",
    "    L = np.zeros((n, n))\n",
    "    U = np.zeros((n, n))\n",
    "\n",
    "    # LU decomposition\n",
    "    for k in range(n):\n",
    "        U[k, k] = A[k, k] - np.dot(L[k, :k], U[:k, k])\n",
    "        L[k, k] = 1.0\n",
    "        for i in range(k+1, n):\n",
    "            L[i, k] = (A[i, k] - np.dot(L[i, :k], U[:k, k])) / U[k, k]\n",
    "        for j in range(k+1, n):\n",
    "            U[k, j] = (A[k, j] - np.dot(L[k, :k], U[:k, j])) / L[k, k]\n",
    "\n",
    "    # Solve for x using forward and backward substitution\n",
    "    y = np.zeros(n)\n",
    "    for i in range(n):\n",
    "        y[i] = b[i] - np.dot(L[i, :i], y[:i])\n",
    "    x = np.zeros(n)\n",
    "    for i in range(n-1, -1, -1):\n",
    "        x[i] = (y[i] - np.dot(U[i, i+1:], x[i+1:])) / U[i, i]\n",
    "\n",
    "    return x\n"
   ]
  },
  {
   "cell_type": "code",
   "execution_count": 9,
   "id": "dbc86b39",
   "metadata": {},
   "outputs": [
    {
     "name": "stdout",
     "output_type": "stream",
     "text": [
      "[1.         0.99999973 1.00000765 0.99990942 1.00056466 0.99794007\n",
      " 1.00462498 0.99352912 1.00549584 0.99740777 1.00052077]\n"
     ]
    }
   ],
   "source": [
    "import numpy as np\n",
    "n = 11  # example value\n",
    "A = np.array([[1/(i+j-1) for j in range(1, n+1)] for i in range(1, n+1)])\n",
    "b = np.array([sum(A[i]) for i in range(n)])\n",
    "x = doolittle(A, b)\n",
    "print(x)\n",
    "#print(A)"
   ]
  },
  {
   "cell_type": "code",
   "execution_count": 17,
   "id": "36a1469d",
   "metadata": {},
   "outputs": [
    {
     "name": "stdout",
     "output_type": "stream",
     "text": [
      "[1. 1. 1.]\n"
     ]
    }
   ],
   "source": [
    "#18\n",
    "import numpy as np\n",
    "from scipy.linalg import lu\n",
    "from scipy.linalg import solve\n",
    "\n",
    "A = np.array([[1,1,1],\n",
    "             [25,5,1],\n",
    "             [81,9,1]])\n",
    "b = np.array([3,31,91])\n",
    "x = solve(A,b)\n",
    "print(x)"
   ]
  },
  {
   "cell_type": "code",
   "execution_count": 21,
   "id": "cccc6c74",
   "metadata": {},
   "outputs": [
    {
     "name": "stdout",
     "output_type": "stream",
     "text": [
      "10.219309575531145\n"
     ]
    }
   ],
   "source": [
    "#21\n",
    "\n",
    "import numpy as np\n",
    "def condition(A):\n",
    "    return np.linalg.norm(A,2)*np.linalg.norm(np.linalg.inv(A),2);\n",
    "A=np.mat('[1,-1,-1;0,1,-2;0,0,1]');\n",
    "print(condition(A));"
   ]
  },
  {
   "cell_type": "code",
   "execution_count": 29,
   "id": "ccae8277",
   "metadata": {},
   "outputs": [
    {
     "name": "stdout",
     "output_type": "stream",
     "text": [
      "[1. 1. 1. 1. 1. 1. 1. 1. 1. 1. 1. 1. 1. 1. 1. 1. 1. 1. 1. 1. 1. 1. 1. 1.\n",
      " 1. 1. 1. 1. 1. 1. 1. 1. 1. 1. 1. 1. 1. 1. 1. 1. 1. 1. 1. 1. 1. 1. 1. 1.\n",
      " 1. 1. 1. 1. 1. 1. 1. 1. 1. 1. 1. 1. 1. 1. 1. 1. 1. 1. 1. 1. 1. 1. 1. 1.\n",
      " 1. 1. 1. 1. 1. 1. 1. 1. 1. 1. 1. 1. 1. 1. 1. 1. 1. 1. 1. 1. 1. 1. 1. 1.\n",
      " 1. 1. 1. 1. 1. 1. 1. 1. 1. 1. 1. 1. 1. 1. 1. 1. 1. 1. 1. 1. 1. 1. 1. 1.\n",
      " 1. 1. 1. 1. 1. 1. 1. 1. 1. 1. 1. 1. 1. 1. 1. 1. 1. 1. 1. 1. 1. 1. 1. 1.\n",
      " 1. 1. 1. 1. 1. 1. 1. 1. 1. 1. 1. 1. 1. 1. 1. 1. 1. 1. 1. 1. 1. 1. 1. 1.\n",
      " 1. 1. 1. 1. 1. 1. 1. 1. 1. 1. 1. 1. 1. 1. 1. 1. 1. 1. 1. 1. 1. 1. 1. 1.\n",
      " 1. 1. 1. 1. 1. 1. 1. 1.]\n"
     ]
    }
   ],
   "source": [
    "#23\n",
    "#Define a function gaussElimin\n",
    "\n",
    "#Solve Ax = b\n",
    "import numpy as np\n",
    "#from numpy.random import ran\n",
    "#a = rand(n,n)\n",
    "# Define the Gauss elimination function\n",
    "def gaussElimin(A, b):\n",
    "    n = len(A)\n",
    "    for k in range(0, n-1):\n",
    "        for i in range(k+1, n):\n",
    "            if A[i,k] != 0.0:\n",
    "                lam = A[i,k]/A[k,k]\n",
    "                A[i,k+1:n] = A[i,k+1:n] - lam*A[k,k+1:n]\n",
    "                b[i] = b[i] - lam*b[k]\n",
    "    for k in range(n-1, -1, -1):\n",
    "        b[k] = (b[k] - np.dot(A[k,k+1:n], b[k+1:n]))/A[k,k]\n",
    "    return b\n",
    "\n",
    "# Generate matrix A with n=200\n",
    "n = 200\n",
    "A = np.random.rand(n, n)\n",
    "\n",
    "# Calculate the sum 0f A to create b\n",
    "b = np.sum(A, axis=1)\n",
    "\n",
    "# Solve using Gauss elimination\n",
    "x = gaussElimin(A, b)\n",
    "\n",
    "# Print the solution\n",
    "print(x)\n",
    "\n"
   ]
  },
  {
   "cell_type": "code",
   "execution_count": 4,
   "id": "0880ec0c",
   "metadata": {},
   "outputs": [
    {
     "name": "stdout",
     "output_type": "stream",
     "text": [
      "L =  [[1, 0, 0, 0, 0], [-1, 1, 0, 0, 0], [0, -2, 1, 0, 0], [0, 0, 3, 1, 0], [0, 0, 0, -2, 1]]\n",
      "D =  [[2, -2, 0, 0, 0], [0, 3, -6, 0, 0], [0, 0, 4, 12, 0], [0, 0, 0, 3, -6], [0, 0, 0, 0, 2]]\n"
     ]
    }
   ],
   "source": [
    "#3\n",
    "def doolittle_decomposition(A):\n",
    "    \n",
    "    size = len(A)\n",
    "    # initialise L and D with zeros\n",
    "    L = [[0 for i in range(size)] for j in range(size)]\n",
    "    D = [[0 for i in range(size)] for j in range(size)]\n",
    "\n",
    "    # decomposing into L and D matrix\n",
    "    for i in range(size):\n",
    "        # D matrix\n",
    "        for j in range(i, size):\n",
    "            sum = 0\n",
    "            for k in range(i):\n",
    "                sum += (L[i][k] * D[k][j])\n",
    "\n",
    "            D[i][j] = A[i][j] - sum\n",
    "\n",
    "        # L matrix\n",
    "        for j in range(i, size):\n",
    "            if (i == j):\n",
    "                L[i][i] = 1\n",
    "            else:\n",
    "                sum = 0\n",
    "                for k in range(i):\n",
    "                    sum += (L[j][k] * D[k][i])\n",
    "\n",
    "                L[j][i] = int((A[j][i] - sum) / D[i][i])\n",
    "\n",
    "    return L, D\n",
    "\n",
    "\n",
    "if __name__ == \"__main__\":\n",
    "    A = [[2, -2, 0, 0, 0],\n",
    "        [-2, 5, -6, 0, 0],\n",
    "        [0, -6, 16, 12, 0],\n",
    "        [0, 0, 12, 39, -6],\n",
    "        [0, 0, 0, -6, 14]]\n",
    "\n",
    "    L, D = doolittle_decomposition(A)\n",
    "    print(\"L = \",L)\n",
    "    print(\"D = \", D)\n",
    "# use ldl ,"
   ]
  },
  {
   "cell_type": "code",
   "execution_count": 5,
   "id": "dc6fb8c8",
   "metadata": {},
   "outputs": [
    {
     "name": "stdout",
     "output_type": "stream",
     "text": [
      "[ 6.63957802  4.63957802 -3.81978901  5.03298168 -0.59571238  7.49317086\n",
      "  0.07515774 -1.58819226 -1.31706186 10.        ]\n"
     ]
    }
   ],
   "source": [
    "#9\n",
    "import numpy as np\n",
    "\n",
    "# Define the tridiagonal matrix A and the vector b\n",
    "a = np.ones(10) # diagonal elements\n",
    "b = np.ones(9) # off-diagonal elements\n",
    "A = np.diag(a) + np.diag(b, k=-1) + np.diag(b, k=1)\n",
    "b = np.array([1, 2, 3, 4, 5, 6, 7, 8, 9, 10])\n",
    "\n",
    "# Use forward substitution to transform A and b to an upper triangular matrix\n",
    "c = np.zeros(9)\n",
    "d = np.zeros(9)\n",
    "\n",
    "c[0] = b[0]/a[0]\n",
    "d[0] = b[1]/a[0]\n",
    "\n",
    "for i in range(1, 9):\n",
    "    temp = a[i] - c[i-1]*d[i-1]\n",
    "    c[i] = b[i]/temp\n",
    "    d[i] = b[i+1]/temp\n",
    "\n",
    "# Use backward substitution to find the solution x\n",
    "x = np.zeros(10)\n",
    "\n",
    "# Last element of x\n",
    "x[9] = (b[9] - c[8]*x[8])/a[9]\n",
    "\n",
    "# Other elements of x\n",
    "for i in range(8, -1, -1):\n",
    "    x[i] = c[i]*x[i+1] + d[i]\n",
    "\n",
    "print(x)\n"
   ]
  },
  {
   "cell_type": "code",
   "execution_count": 24,
   "id": "bfcb279c",
   "metadata": {},
   "outputs": [
    {
     "name": "stdout",
     "output_type": "stream",
     "text": [
      "\n",
      "x =\n",
      " [2.90191051 2.60764203 2.52865762 2.50698844 2.49929616 2.49019619\n",
      " 2.46148861 2.35575825 1.96154439 0.49041931]\n",
      "\n",
      "Press return to exit0\n"
     ]
    },
    {
     "data": {
      "text/plain": [
       "'0'"
      ]
     },
     "execution_count": 24,
     "metadata": {},
     "output_type": "execute_result"
    }
   ],
   "source": [
    "\n",
    "import numpy as np\n",
    "\n",
    "def LUdecomp3(c,d,e):\n",
    "    n = len(d)\n",
    "    for k in range(1,n):\n",
    "        lam = c[k-1]/d[k-1]\n",
    "        d[k] = d[k] - lam*e[k-1]\n",
    "        c[k-1] = lam\n",
    "    return c,d,e\n",
    "\n",
    "def LUsolve3(c,d,e,b):\n",
    "    n = len(d)\n",
    "    for k in range(1,n):\n",
    "        b[k] = b[k] - c[k-1]*b[k-1]\n",
    "        b[n-1] = b[n-1]/d[n-1]\n",
    "    for k in range(n-2,-1,-1):\n",
    "        b[k] = (b[k] - e[k]*b[k+1])/d[k]\n",
    "    return b\n",
    "\n",
    "n=10\n",
    "d = np.ones((n))*4.0\n",
    "c = np.ones((n-1))*(-1.0)\n",
    "b = np.ones((n))*5.0\n",
    "b[0]=9\n",
    "e = c.copy()\n",
    "c,d,e = LUdecomp3(c,d,e)\n",
    "x = LUsolve3(c,d,e,b)\n",
    "print(\"\\nx =\\n\",x)\n"
   ]
  },
  {
   "cell_type": "code",
   "execution_count": 19,
   "id": "5166619e",
   "metadata": {},
   "outputs": [
    {
     "name": "stdout",
     "output_type": "stream",
     "text": [
      "n = 2\n",
      "\n",
      "x = [-8. 18.]\n",
      "n = 3\n",
      "\n",
      "x = [  27. -192.  210.]\n",
      "n = 4\n",
      "\n",
      "x = [  -64.   900. -2520.  1820.]\n"
     ]
    }
   ],
   "source": [
    "#19\n",
    "import numpy as np\n",
    "\n",
    "def gauss_elimination(A, b):\n",
    "    n = len(b)\n",
    "    Ab = np.concatenate((A, b[:, np.newaxis]), axis=1)\n",
    "    \n",
    "    # This is forward elimination\n",
    "    for i in range(n-1):\n",
    "        for j in range(i+1, n):\n",
    "            m = Ab[j,i]/Ab[i,i]\n",
    "            Ab[j,i:n+1] = Ab[j,i:n+1] - m*Ab[i,i:n+1]\n",
    "    \n",
    "    # And this one is back substitution\n",
    "    x = np.zeros(n)\n",
    "    x[n-1] = Ab[n-1,n]/Ab[n-1,n-1]\n",
    "    for i in range(n-2, -1, -1):\n",
    "        x[i] = (Ab[i,n] - np.dot(Ab[i,i:n], x[i:n]))/Ab[i,i]\n",
    "    \n",
    "    return x\n",
    "\n",
    "# Testing the function with n = 2, 3, and 4\n",
    "n_values = [2, 3, 4]\n",
    "for n in n_values:\n",
    "    A = np.zeros((n,n))\n",
    "    for i in range(n):\n",
    "        for j in range(n):\n",
    "            A[i,j] = 1/(i+j+1)\n",
    "    b = np.arange(1, n+1)\n",
    "    \n",
    "    x = gauss_elimination(A, b)\n",
    "\n",
    "# Printing the x    \n",
    "    print(f\"n = {n}\")\n",
    "    print(f\"x = {x}\")"
   ]
  },
  {
   "cell_type": "code",
   "execution_count": 23,
   "id": "8c621c68",
   "metadata": {},
   "outputs": [
    {
     "name": "stdout",
     "output_type": "stream",
     "text": [
      "[ 5. 15. 26. 35. 40. 40. 35. 26. 15.  5.]\n"
     ]
    }
   ],
   "source": [
    "#22\n",
    "import numpy as np\n",
    "# EigenFactorization of a Square Matrix\n",
    "#from numpy import array\n",
    "#from numpy.linalg import eig\n",
    "\n",
    "# define the matrix\n",
    "A = np.array([[7, -4, 1, 0, 0, 0, 0, 0, 0, 0],\n",
    "              [-4, 6, -4, 1, 0, 0, 0, 0, 0, 0],\n",
    "              [1, -4, 6, -4, 1, 0, 0, 0, 0, 0],\n",
    "              [0, 1, -4, 6, -4, 1, 0, 0, 0, 0],\n",
    "              [0, 0, 1, -4, 6, -4, 1, 0, 0, 0],\n",
    "              [0, 0, 0, 1, -4, 6, -4, 1, 0, 0],\n",
    "              [0, 0, 0, 0, 1, -4, 6, -4, 1, 0],\n",
    "              [0, 0, 0, 0, 0, 1, -4, 6, -4, 1],\n",
    "              [0, 0, 0, 0, 0, 0, 1, -4, 6, -4],\n",
    "              [0, 0, 0, 0, 0, 0, 0, 1, -4, 7]])\n",
    "\n",
    "# Define the right-hand side of the system of equations\n",
    "b = np.array([1, 1, 1, 1, 1, 1, 1, 1, 1, 1])\n",
    "\n",
    "# Solve the system of equations\n",
    "x = np.linalg.solve(A, b)\n",
    "\n",
    "# Print the solution\n",
    "print(x)\n"
   ]
  },
  {
   "cell_type": "code",
   "execution_count": null,
   "id": "8746768d",
   "metadata": {},
   "outputs": [],
   "source": []
  }
 ],
 "metadata": {
  "kernelspec": {
   "display_name": "Python 3 (ipykernel)",
   "language": "python",
   "name": "python3"
  },
  "language_info": {
   "codemirror_mode": {
    "name": "ipython",
    "version": 3
   },
   "file_extension": ".py",
   "mimetype": "text/x-python",
   "name": "python",
   "nbconvert_exporter": "python",
   "pygments_lexer": "ipython3",
   "version": "3.9.12"
  }
 },
 "nbformat": 4,
 "nbformat_minor": 5
}
